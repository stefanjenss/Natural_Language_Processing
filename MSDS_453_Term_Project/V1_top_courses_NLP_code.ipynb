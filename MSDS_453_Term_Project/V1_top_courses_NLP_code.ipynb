{
 "cells": [
  {
   "cell_type": "markdown",
   "metadata": {},
   "source": [
    "## Top Golf Courses in the United States Natural Language Process (NLP) Anlysis Overview\n",
    "\n",
    "1. **Compare TF-IDF vs Doc2Vec for feature extraction** \n",
    "    - Vectorize the reviews using both TF-IDF and Doc2Vec (gensim library).\n",
    "    - TF-IDF represents documents as a weighted vector of important words. Doc2Vec learns semantic vector representations of documents.\n",
    "    - Compare the two approaches qualitatively and quantitatively (e.g. in downstream clustering/classification tasks) to see which captures more meaningful information from the reviews.\n",
    "\n",
    "2. **Compare K-means clustering vs LDA for topic modeling**\n",
    "    - Apply K-means clustering and LDA on the vectorized reviews to discover latent topics/themes discussed \n",
    "    - K-means aims to partition the reviews into K clusters based on feature similarity. LDA is a probabilistic model that assigns topic distributions to documents.\n",
    "    - Evaluate the coherence and interpretability of the topics/clusters found by each method. Use metrics like silhouette score, perplexity, human judgment."
   ]
  },
  {
   "cell_type": "code",
   "execution_count": 7,
   "metadata": {},
   "outputs": [
    {
     "data": {
      "text/plain": [
       "'\\nSet up the environment with the necessary libraries, packages, and display configurations\\n'"
      ]
     },
     "execution_count": 7,
     "metadata": {},
     "output_type": "execute_result"
    }
   ],
   "source": [
    "\"\"\"\n",
    "Set up the environment with the necessary libraries, packages, and display configurations\n",
    "\n",
    "Note: this code is written in Python 3.9, as this version of Python is compatable with the GenSim library\n",
    "\"\"\"\n",
    "# Enable multiple outputs in a single cell\n",
    "from IPython.core.interactiveshell import InteractiveShell\n",
    "InteractiveShell.ast_node_interactivity = \"all\"\n",
    "\n",
    "\n",
    "# Install the necessary libraries adn packages to the enviornment if they are not already present\n",
    "# !pip install pandas numpy matplotlib seaborn nltk scikit-learn gensim\n",
    "\n",
    "# Import the necessary libraries and packages\n",
    "# Regular expressions, string manipulation, and file system operations\n",
    "import re, string, os\n",
    "# Data manipulation and analysis\n",
    "import pandas as pd\n",
    "# Scientific computing\n",
    "import numpy as np\n",
    "from numpy import triu\n",
    "import scipy\n",
    "# Data visualization\n",
    "import matplotlib.pyplot as plt\n",
    "import seaborn as sns\n",
    "# Natural language processing\n",
    "import nltk\n",
    "from nltk.tokenize import word_tokenize\n",
    "from nltk.corpus import stopwords\n",
    "from nltk.stem import PorterStemmer\n",
    "# Machine Learning\n",
    "from sklearn.feature_extraction.text import TfidfVectorizer\n",
    "from sklearn.cluster import KMeans\n",
    "from sklearn.metrics.pairwise import cosine_similarity\n",
    "from sklearn.manifold import MDS\n",
    "from sklearn.preprocessing import LabelEncoder, OneHotEncoder\n",
    "from sklearn.ensemble import RandomForestClassifier\n",
    "from sklearn.metrics import roc_auc_score, accuracy_score, confusion_matrix\n",
    "from sklearn.model_selection import cross_val_score, StratifiedKFold\n",
    "from sklearn.tree import DecisionTreeClassifier\n",
    "from sklearn.model_selection import train_test_split, KFold\n",
    "# Gensim for topic modeling\n",
    "from gensim.models import Word2Vec, LdaModel, TfidfModel\n",
    "from gensim import corpora\n",
    "from gensim.models.doc2vec import Doc2Vec, TaggedDocument\n",
    "\n",
    "# Display configurations\n",
    "plt.style.use('ggplot')\n",
    "sns.set_style('whitegrid')\n",
    "# Set the random seed for reproducibility\n",
    "np.random.seed(42)\n"
   ]
  },
  {
   "cell_type": "code",
   "execution_count": null,
   "metadata": {},
   "outputs": [],
   "source": [
    "\"\"\"\n",
    "Firstly, since I created the golf course review corpus using Excel, I will need to convert the Excel file to a CSV file. \n",
    "I will use the pandas library to do this.\n",
    "\n",
    "Secondly, I will use the pandas library to read the CSV file and create a DataFrame.\n",
    "\"\"\""
   ]
  }
 ],
 "metadata": {
  "kernelspec": {
   "display_name": "portfolio",
   "language": "python",
   "name": "python3"
  },
  "language_info": {
   "codemirror_mode": {
    "name": "ipython",
    "version": 3
   },
   "file_extension": ".py",
   "mimetype": "text/x-python",
   "name": "python",
   "nbconvert_exporter": "python",
   "pygments_lexer": "ipython3",
   "version": "3.9.19"
  }
 },
 "nbformat": 4,
 "nbformat_minor": 2
}
